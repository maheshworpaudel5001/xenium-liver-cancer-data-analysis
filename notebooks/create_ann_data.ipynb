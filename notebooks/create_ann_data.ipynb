{
 "cells": [
  {
   "cell_type": "markdown",
   "id": "90537be3",
   "metadata": {},
   "source": [
    "## 1. Dataset and input files\n",
    "We are cell typing Xenium liver cancer dataset from 10x Genomics. The dataset is available on the 10x Genomics website under the Xenium datasets section.\n",
    "\n",
    "Here is the link: https://www.10xgenomics.com/datasets/human-liver-data-xenium-human-multi-tissue-and-cancer-panel-1-standard\n",
    "\n",
    "Download the dataset (you do not need to unzip it since the libraries written can handle unzipped dataset). Structure your working directory to have a sub-directory xenium_data such that the xenium_data directory tree would look like the following:\n",
    "\n",
    "- /home/gddaslab/mxp140/xenium_liver_cancer/xenium_data/\n",
    "    - diseased/\n",
    "        - analysis_summary.html  \n",
    "        - analysis.zarr.zip  \n",
    "        - cell_feature_matrix.zarr.zip  \n",
    "        - cells.zarr.zip  \n",
    "        - experiment.xenium  \n",
    "        - gene_panel.json  \n",
    "        - morphology_mip.ome.tif  \n",
    "        - transcripts.zarr.zip  \n",
    "    - non_diseased/\n",
    "        - analysis_summary.html  \n",
    "        - analysis.zarr.zip  \n",
    "        - cell_feature_matrix.zarr.zip  \n",
    "        - cells.zarr.zip  \n",
    "        - experiment.xenium  \n",
    "        - gene_panel.json  \n",
    "        - morphology_mip.ome.tif  \n",
    "        - transcripts.zarr.zip  \n",
    "\n",
    "2 directories, 16 files\n",
    "\n",
    "A summary of the cells and gene statistics can already be found in the following link:\n",
    "\n",
    "Diseased-> https://cf.10xgenomics.com/samples/xenium/1.9.0/Xenium_V1_hLiver_cancer_section_FFPE/Xenium_V1_hLiver_cancer_section_FFPE_analysis_summary.html\n",
    "\n",
    "Non-diseased-> https://cf.10xgenomics.com/samples/xenium/1.9.0/Xenium_V1_hLiver_nondiseased_section_FFPE/Xenium_V1_hLiver_nondiseased_section_FFPE_analysis_summary.html\n",
    "\n",
    "<!-- To create visualizations like the one in the links, please see my other notebook page on data exploration: which can be found as `diseased_data_exploration.ipynb` and `non_diseased_data_exploration.ipynb` inside notebooks directory. -->\n",
    "In this notebook, I will create anndata object for diseased and non-diseased dataset."
   ]
  },
  {
   "cell_type": "code",
   "execution_count": 1,
   "id": "7842e884",
   "metadata": {},
   "outputs": [],
   "source": [
    "%load_ext autoreload\n",
    "%autoreload 2"
   ]
  },
  {
   "cell_type": "code",
   "execution_count": 2,
   "id": "67447e74",
   "metadata": {},
   "outputs": [],
   "source": [
    "# Set up the project environment:\n",
    "# - Import required modules: os for file paths, sys for system-specific parameters, and warnings to manage warning messages.\n",
    "# - Define the project_path variable, pointing to the user's home directory and the 'xenium_liver_cancer' folder.\n",
    "# - Add the project_path to the system path so custom modules in this directory can be imported.\n",
    "# - Suppress all warnings to keep the notebook output clean.\n",
    "import os, sys, warnings\n",
    "project_path = os.path.join(os.path.expanduser(\"~\"), 'xenium_liver_cancer')\n",
    "sys.path.append(project_path)\n",
    "warnings.simplefilter(action=\"ignore\", category=Warning)"
   ]
  },
  {
   "cell_type": "code",
   "execution_count": 3,
   "id": "6e9c0afc",
   "metadata": {},
   "outputs": [],
   "source": [
    "#Import libraries for array and dataframe manipulation\n",
    "import numpy as np\n",
    "import pandas as pd\n",
    "#Import anndata to read and write anndata object\n",
    "import anndata as ad\n",
    "#Import generic plotting libraries\n",
    "import seaborn as sns\n",
    "import matplotlib.pyplot as plt\n",
    "plt.style.use('dark_background')"
   ]
  },
  {
   "cell_type": "code",
   "execution_count": 4,
   "id": "8a95418b",
   "metadata": {},
   "outputs": [],
   "source": [
    "#Import my libraries to read, write and organize zarr files specific to the file/project organization mentioned earlier\n",
    "#For what each specific module is, refer to documentations in `~{project_path}/documents`\n",
    "from cell_stat_loader import SpatialInfo\n",
    "from feature_matrix_loader import FeatureMatrixLoader"
   ]
  },
  {
   "cell_type": "code",
   "execution_count": 5,
   "id": "832a8a26",
   "metadata": {},
   "outputs": [
    {
     "name": "stdout",
     "output_type": "stream",
     "text": [
      "dict_keys(['feature_ids', 'feature_keys', 'feature_types', 'major_version', 'minor_version', 'number_cells', 'number_features'])\n"
     ]
    }
   ],
   "source": [
    "with FeatureMatrixLoader(f\"{project_path}/xenium_data/diseased/cell_feature_matrix.zarr.zip\") as loader:\n",
    "    cell_by_feature = loader.load_cell_by_feature(format='csr') #load cell by feature matrix in sparse format\n",
    "    attributes = loader.get_attributes() #attributes from the cell_features/.zattrs file\n",
    "    print(attributes.keys())"
   ]
  },
  {
   "cell_type": "code",
   "execution_count": 5,
   "id": "6c0506f5",
   "metadata": {},
   "outputs": [
    {
     "name": "stdout",
     "output_type": "stream",
     "text": [
      "The number of cells is 162628, which is same as reported in attributes: 162628.\n",
      "The number of features is 539, which is same as reported in attributes: 539.\n"
     ]
    }
   ],
   "source": [
    "print(f\"The number of cells is {cell_by_feature.shape[0]}, which is same as reported in attributes: {attributes['number_cells']}.\")\n",
    "print(f\"The number of features is {cell_by_feature.shape[1]}, which is same as reported in attributes: {attributes['number_features']}.\")"
   ]
  },
  {
   "cell_type": "code",
   "execution_count": 6,
   "id": "5b2024e1",
   "metadata": {},
   "outputs": [
    {
     "name": "stdout",
     "output_type": "stream",
     "text": [
      "feature_types            \n",
      "gene                         474\n",
      "negative_control_codeword     41\n",
      "negative_control_probe        20\n",
      "unassigned_codeword            3\n",
      "aggregate_gene                 1\n",
      "Name: count, dtype: int64\n"
     ]
    },
    {
     "data": {
      "image/png": "[encoded data removed]",
      "text/plain": [
       "<Figure size 400x300 with 1 Axes>"
      ]
     },
     "metadata": {},
     "output_type": "display_data"
    }
   ],
   "source": [
    "print(pd.DataFrame({'feature_types': attributes['feature_types']}).value_counts())\n",
    "fig, ax = plt.subplots(nrows=1, ncols=1, figsize=(4, 3))\n",
    "sns.countplot(attributes['feature_types'], ax=ax, palette='viridis')\n",
    "ax.set_xlabel('Count')\n",
    "ax.set_ylabel('Feature Types')\n",
    "ax.set_title('Feature Types Distribution')\n",
    "plt.show()"
   ]
  },
  {
   "cell_type": "code",
   "execution_count": 7,
   "id": "0463b861",
   "metadata": {},
   "outputs": [
    {
     "name": "stdout",
     "output_type": "stream",
     "text": [
      "As you may see that there are actually only 474 genes.\n",
      "Also the last feature which is `aggregated_gene` in fact is total_transcripts for the corresponding cell.\n"
     ]
    }
   ],
   "source": [
    "print(f'As you may see that there are actually only {int(sum(np.array(attributes['feature_types'], dtype=str) == \"gene\"))} genes.')\n",
    "print(f'Also the last feature which is `aggregated_gene` in fact is total_transcripts for the corresponding cell.')"
   ]
  },
  {
   "cell_type": "markdown",
   "id": "fa71e299",
   "metadata": {},
   "source": [
    "Below I create an anndata object of the diseased dataset. This way we can control the size of the anndata by only including what is needed. To start we may create an anndata object of all the informations we have, read it, subset it and maybe even delete the full anndata from the notebook after subsetting to create memory to run the notebook."
   ]
  },
  {
   "cell_type": "code",
   "execution_count": 8,
   "id": "62211ae5",
   "metadata": {},
   "outputs": [
    {
     "data": {
      "text/plain": [
       "AnnData object with n_obs × n_vars = 162628 × 474\n",
       "    obs: 'cell_id_in_hex', 'cell_id_in_int', 'cell_area', 'nucleus_area', 'total_transcripts'\n",
       "    var: 'ensembl_id', 'gene_symbol'\n",
       "    obsm: 'cell_location', 'nucleus_location'\n",
       "    layers: 'raw_counts'"
      ]
     },
     "execution_count": 8,
     "metadata": {},
     "output_type": "execute_result"
    }
   ],
   "source": [
    "gene_indices = np.where(np.array(attributes['feature_types'], dtype=str) == 'gene')[0]\n",
    "aggregate_gene_indices = np.where(np.array(attributes['feature_types'], dtype=str) == 'aggregate_gene')[0]\n",
    "liver_cancer_path = '../xenium_data/diseased/cells.zarr.zip' \n",
    "cell_spatial = SpatialInfo(f'{project_path}/xenium_data/diseased/cells.zarr.zip')#Load spatial data into SpatialInfo Class\n",
    "number_of_cells = attributes['number_cells']\n",
    "xenium_obj = ad.AnnData(cell_by_feature[:, gene_indices], \n",
    "                        obs = {'cell_id_in_hex':[cell_spatial.get_cell_id_in_hex(i) for i in range(number_of_cells)],\n",
    "                               'cell_id_in_int':[cell_spatial.get_cell_id_in_int(i) for i in range(number_of_cells)],\n",
    "                               'cell_area':[cell_spatial.get_cell_area(i) for i in range(number_of_cells)],\n",
    "                               'nucleus_area':[cell_spatial.get_nucleus_area(i) for i in range(number_of_cells)],\n",
    "                               'total_transcripts': cell_by_feature[:, aggregate_gene_indices].toarray()[:, 0].tolist()},\n",
    "                        var = {'ensembl_id': np.array(attributes['feature_ids'])[gene_indices], \n",
    "                               'gene_symbol': np.array(attributes['feature_keys'])[gene_indices]},\n",
    "                        obsm = {'cell_location':np.array([(arr[0], arr[1]) for i in range(number_of_cells) for arr in [cell_spatial.get_cell_loc(i)]]),\n",
    "                                'nucleus_location':np.array([(arr[0], arr[1]) for i in range(number_of_cells) for arr in [cell_spatial.get_nucleus_loc(i)]])})\n",
    "#Lets log1p normalize the data as well. First we save the raw/original counts in a layer called raw_counts.\n",
    "xenium_obj.layers[\"raw_counts\"] = xenium_obj.X.copy()\n",
    "xenium_obj"
   ]
  },
  {
   "cell_type": "code",
   "execution_count": null,
   "id": "bda98cb7",
   "metadata": {},
   "outputs": [],
   "source": [
    "#save anndata object for future purpose\n",
    "xenium_obj.write_h5ad('liver_cancer.h5ad')"
   ]
  },
  {
   "cell_type": "markdown",
   "id": "e3839b20",
   "metadata": {},
   "source": [
    "## Healthy liver: \n",
    "\n",
    "For healthy liver, we simply follow the same footsteps that we walked to create anndata object for liver cancer."
   ]
  },
  {
   "cell_type": "code",
   "execution_count": null,
   "id": "c8a75d32",
   "metadata": {},
   "outputs": [
    {
     "name": "stdout",
     "output_type": "stream",
     "text": [
      "dict_keys(['feature_ids', 'feature_keys', 'feature_types', 'major_version', 'minor_version', 'number_cells', 'number_features'])\n",
      "The number of cells is 239271, which is same as reported in attributes: 239271.\n",
      "The number of features is 542, which is same as reported in attributes: 542.\n",
      "feature_types            \n",
      "gene                         377\n",
      "unassigned_codeword          103\n",
      "negative_control_codeword     41\n",
      "negative_control_probe        20\n",
      "aggregate_gene                 1\n",
      "Name: count, dtype: int64\n"
     ]
    },
    {
     "data": {
      "image/png": "[encoded data removed]",
      "text/plain": [
       "<Figure size 400x300 with 1 Axes>"
      ]
     },
     "metadata": {},
     "output_type": "display_data"
    },
    {
     "name": "stdout",
     "output_type": "stream",
     "text": [
      "As you may see that there are actually only 377 genes.\n",
      "Also the last feature which is `aggregated_gene` in fact is total_transcripts for the corresponding cell.\n"
     ]
    },
    {
     "data": {
      "text/plain": [
       "AnnData object with n_obs × n_vars = 239271 × 377\n",
       "    obs: 'cell_id_in_hex', 'cell_id_in_int', 'cell_area', 'nucleus_area', 'total_transcripts'\n",
       "    var: 'ensembl_id', 'gene_symbol'\n",
       "    obsm: 'cell_location', 'nucleus_location'\n",
       "    layers: 'raw_counts'"
      ]
     },
     "execution_count": 9,
     "metadata": {},
     "output_type": "execute_result"
    }
   ],
   "source": [
    "with FeatureMatrixLoader(f\"{project_path}/xenium_data/non_diseased/cell_feature_matrix.zarr.zip\") as loader:\n",
    "    cell_by_feature = loader.load_cell_by_feature(format='csr') #load cell by feature matrix in sparse format\n",
    "    attributes = loader.get_attributes()\n",
    "    print(attributes.keys())\n",
    "\n",
    "print(f\"The number of cells is {cell_by_feature.shape[0]}, which is same as reported in attributes: {attributes['number_cells']}.\")\n",
    "print(f\"The number of features is {cell_by_feature.shape[1]}, which is same as reported in attributes: {attributes['number_features']}.\")\n",
    "\n",
    "print(pd.DataFrame({'feature_types': attributes['feature_types']}).value_counts())\n",
    "fig, ax = plt.subplots(nrows=1, ncols=1, figsize=(4, 3))\n",
    "sns.countplot(attributes['feature_types'], ax=ax, palette='viridis')\n",
    "ax.set_xlabel('Count')\n",
    "ax.set_ylabel('Feature Types')\n",
    "ax.set_title('Feature Types Distribution')\n",
    "plt.show()\n",
    "\n",
    "print(f'As you may see that there are actually only {int(sum(np.array(attributes['feature_types'], dtype=str) == \"gene\"))} genes.')\n",
    "print(f'Also the last feature which is `aggregated_gene` in fact is total_transcripts for the corresponding cell.')\n",
    "\n",
    "gene_indices = np.where(np.array(attributes['feature_types'], dtype=str) == 'gene')[0]\n",
    "aggregate_gene_indices = np.where(np.array(attributes['feature_types'], dtype=str) == 'aggregate_gene')[0]\n",
    "healthy_liver_path = f'{project_path}/xenium_data/non_diseased/cells.zarr.zip' \n",
    "cell_spatial = SpatialInfo(f'{healthy_liver_path}')\n",
    "number_of_cells = attributes['number_cells']\n",
    "healthy_obj = ad.AnnData(cell_by_feature[:, gene_indices], \n",
    "                        obs = {'cell_id_in_hex':[cell_spatial.get_cell_id_in_hex(i) for i in range(number_of_cells)],\n",
    "                               'cell_id_in_int':[cell_spatial.get_cell_id_in_int(i) for i in range(number_of_cells)],\n",
    "                               'cell_area':[cell_spatial.get_cell_area(i) for i in range(number_of_cells)],\n",
    "                               'nucleus_area':[cell_spatial.get_nucleus_area(i) for i in range(number_of_cells)],\n",
    "                               'total_transcripts': cell_by_feature[:, aggregate_gene_indices].toarray()[:, 0].tolist()},\n",
    "                        var = {'ensembl_id': np.array(attributes['feature_ids'])[gene_indices], \n",
    "                               'gene_symbol': np.array(attributes['feature_keys'])[gene_indices]},\n",
    "                        obsm = {'cell_location':np.array([(arr[0], arr[1]) for i in range(number_of_cells) for arr in [cell_spatial.get_cell_loc(i)]]),\n",
    "                                'nucleus_location':np.array([(arr[0], arr[1]) for i in range(number_of_cells) for arr in [cell_spatial.get_nucleus_loc(i)]])})\n",
    "#Lets log1p normalize the data as well. First we save the raw/original counts in a layer called raw_counts.\n",
    "healthy_obj.layers[\"raw_counts\"] = healthy_obj.X.copy()\n",
    "healthy_obj.write_h5ad('healthy_liver.h5ad') #save anndata object\n",
    "healthy_obj"
   ]
  }
 ],
 "metadata": {
  "kernelspec": {
   "display_name": "xenium",
   "language": "python",
   "name": "python3"
  },
  "language_info": {
   "codemirror_mode": {
    "name": "ipython",
    "version": 3
   },
   "file_extension": ".py",
   "mimetype": "text/x-python",
   "name": "python",
   "nbconvert_exporter": "python",
   "pygments_lexer": "ipython3",
   "version": "3.12.10"
  }
 },
 "nbformat": 4,
 "nbformat_minor": 5
}
